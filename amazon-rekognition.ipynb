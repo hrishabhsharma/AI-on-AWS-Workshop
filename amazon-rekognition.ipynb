{
 "cells": [
  {
   "cell_type": "code",
   "execution_count": 21,
   "metadata": {},
   "outputs": [],
   "source": [
    "# webcam photo click\n",
    "# pip install opencv-python\n",
    "\n",
    "import cv2"
   ]
  },
  {
   "cell_type": "code",
   "execution_count": 22,
   "metadata": {},
   "outputs": [],
   "source": [
    "# cap = cv2.VideoCapture(0)    #0->internal webcam 1->external webcam"
   ]
  },
  {
   "cell_type": "code",
   "execution_count": 23,
   "metadata": {},
   "outputs": [],
   "source": [
    "cap = cv2.VideoCapture(0)\n",
    "myphoto = \"hrishabh.jpg\"\n",
    "ret, photo = cap.read()\n",
    "cv2.imwrite(myphoto , photo)\n",
    "cap.release()"
   ]
  },
  {
   "cell_type": "code",
   "execution_count": 24,
   "metadata": {},
   "outputs": [
    {
     "data": {
      "text/plain": [
       "True"
      ]
     },
     "execution_count": 24,
     "metadata": {},
     "output_type": "execute_result"
    }
   ],
   "source": [
    "ret"
   ]
  },
  {
   "cell_type": "code",
   "execution_count": 25,
   "metadata": {},
   "outputs": [],
   "source": [
    "# upload photo to cloud object storage s3\n",
    "region = \"ap-south-1\""
   ]
  },
  {
   "cell_type": "code",
   "execution_count": 26,
   "metadata": {},
   "outputs": [],
   "source": [
    "bucket = \"ai-on-aws-workshop\""
   ]
  },
  {
   "cell_type": "code",
   "execution_count": 27,
   "metadata": {},
   "outputs": [
    {
     "data": {
      "text/plain": [
       "'hrishabh.jpg'"
      ]
     },
     "execution_count": 27,
     "metadata": {},
     "output_type": "execute_result"
    }
   ],
   "source": [
    "myphoto"
   ]
  },
  {
   "cell_type": "code",
   "execution_count": 28,
   "metadata": {},
   "outputs": [],
   "source": [
    "# pip install boto3\n",
    "# pip install aws\n",
    "import boto3"
   ]
  },
  {
   "cell_type": "code",
   "execution_count": 29,
   "metadata": {},
   "outputs": [],
   "source": [
    "upload_img = \"file.jpg\""
   ]
  },
  {
   "cell_type": "code",
   "execution_count": 30,
   "metadata": {},
   "outputs": [],
   "source": [
    "s3 = boto3.resource('s3')"
   ]
  },
  {
   "cell_type": "code",
   "execution_count": 31,
   "metadata": {},
   "outputs": [],
   "source": [
    "s3.Bucket(bucket).upload_file(myphoto, upload_img)"
   ]
  },
  {
   "cell_type": "code",
   "execution_count": 32,
   "metadata": {},
   "outputs": [],
   "source": [
    "# connect rek \n",
    "rek = boto3.client('rekognition', region)"
   ]
  },
  {
   "cell_type": "code",
   "execution_count": 33,
   "metadata": {},
   "outputs": [
    {
     "data": {
      "text/plain": [
       "<botocore.client.Rekognition at 0x27755e83bc8>"
      ]
     },
     "execution_count": 33,
     "metadata": {},
     "output_type": "execute_result"
    }
   ],
   "source": [
    "rek"
   ]
  },
  {
   "cell_type": "code",
   "execution_count": 58,
   "metadata": {},
   "outputs": [],
   "source": [
    "response = rek.detect_labels(\n",
    "\n",
    "    Image={\n",
    "          'S3Object': {\n",
    "              'Bucket': bucket,\n",
    "              'Name': upload_img,\n",
    "          }\n",
    "      },\n",
    "      MaxLabels=10,\n",
    "      MinConfidence=90\n",
    ")"
   ]
  },
  {
   "cell_type": "code",
   "execution_count": 59,
   "metadata": {},
   "outputs": [
    {
     "data": {
      "text/plain": [
       "{'Labels': [{'Name': 'Person',\n",
       "   'Confidence': 99.6910629272461,\n",
       "   'Instances': [{'BoundingBox': {'Width': 0.8056076169013977,\n",
       "      'Height': 0.816582977771759,\n",
       "      'Left': 0.1715892255306244,\n",
       "      'Top': 0.16711512207984924},\n",
       "     'Confidence': 99.6910629272461}],\n",
       "   'Parents': []},\n",
       "  {'Name': 'Human',\n",
       "   'Confidence': 99.6910629272461,\n",
       "   'Instances': [],\n",
       "   'Parents': []},\n",
       "  {'Name': 'Face',\n",
       "   'Confidence': 97.72871398925781,\n",
       "   'Instances': [],\n",
       "   'Parents': [{'Name': 'Person'}]},\n",
       "  {'Name': 'Interior Design',\n",
       "   'Confidence': 95.6126937866211,\n",
       "   'Instances': [],\n",
       "   'Parents': [{'Name': 'Indoors'}]},\n",
       "  {'Name': 'Indoors',\n",
       "   'Confidence': 95.6126937866211,\n",
       "   'Instances': [],\n",
       "   'Parents': []}],\n",
       " 'LabelModelVersion': '2.0',\n",
       " 'ResponseMetadata': {'RequestId': 'e0f3b93e-a82a-4c95-b3e2-06f360f5076d',\n",
       "  'HTTPStatusCode': 200,\n",
       "  'HTTPHeaders': {'content-type': 'application/x-amz-json-1.1',\n",
       "   'date': 'Sun, 04 Apr 2021 06:14:13 GMT',\n",
       "   'x-amzn-requestid': 'e0f3b93e-a82a-4c95-b3e2-06f360f5076d',\n",
       "   'content-length': '614',\n",
       "   'connection': 'keep-alive'},\n",
       "  'RetryAttempts': 0}}"
      ]
     },
     "execution_count": 59,
     "metadata": {},
     "output_type": "execute_result"
    }
   ],
   "source": [
    "response"
   ]
  },
  {
   "cell_type": "code",
   "execution_count": 60,
   "metadata": {},
   "outputs": [
    {
     "data": {
      "text/plain": [
       "'Face'"
      ]
     },
     "execution_count": 60,
     "metadata": {},
     "output_type": "execute_result"
    }
   ],
   "source": [
    "response['Labels'][2]['Name']"
   ]
  },
  {
   "cell_type": "code",
   "execution_count": 61,
   "metadata": {},
   "outputs": [
    {
     "name": "stdout",
     "output_type": "stream",
     "text": [
      "Person\n",
      "Human\n",
      "Face\n",
      "Interior Design\n",
      "Indoors\n"
     ]
    }
   ],
   "source": [
    "for i in range(5):\n",
    "    print (response['Labels'][i]['Name'])"
   ]
  },
  {
   "cell_type": "code",
   "execution_count": 62,
   "metadata": {},
   "outputs": [],
   "source": [
    "resp_faces = rek.detect_faces(\n",
    "    Image={\n",
    "          'S3Object': {\n",
    "              'Bucket': bucket,\n",
    "              'Name': upload_img,\n",
    "          }\n",
    "      },\n",
    "    Attributes=['ALL']\n",
    ")"
   ]
  },
  {
   "cell_type": "code",
   "execution_count": 63,
   "metadata": {},
   "outputs": [
    {
     "data": {
      "text/plain": [
       "{'FaceDetails': [{'BoundingBox': {'Width': 0.233761265873909,\n",
       "    'Height': 0.394414484500885,\n",
       "    'Left': 0.44502267241477966,\n",
       "    'Top': 0.3008737862110138},\n",
       "   'AgeRange': {'Low': 22, 'High': 34},\n",
       "   'Smile': {'Value': False, 'Confidence': 97.34784698486328},\n",
       "   'Eyeglasses': {'Value': False, 'Confidence': 99.73100280761719},\n",
       "   'Sunglasses': {'Value': False, 'Confidence': 99.88347625732422},\n",
       "   'Gender': {'Value': 'Male', 'Confidence': 99.93936157226562},\n",
       "   'Beard': {'Value': True, 'Confidence': 95.56954956054688},\n",
       "   'Mustache': {'Value': False, 'Confidence': 53.70185470581055},\n",
       "   'EyesOpen': {'Value': True, 'Confidence': 98.41935729980469},\n",
       "   'MouthOpen': {'Value': False, 'Confidence': 95.80011749267578},\n",
       "   'Emotions': [{'Type': 'CALM', 'Confidence': 86.16963958740234},\n",
       "    {'Type': 'CONFUSED', 'Confidence': 6.158300399780273},\n",
       "    {'Type': 'SAD', 'Confidence': 3.5895938873291016},\n",
       "    {'Type': 'HAPPY', 'Confidence': 1.2572535276412964},\n",
       "    {'Type': 'ANGRY', 'Confidence': 1.1832833290100098},\n",
       "    {'Type': 'DISGUSTED', 'Confidence': 0.6825481653213501},\n",
       "    {'Type': 'SURPRISED', 'Confidence': 0.5086923241615295},\n",
       "    {'Type': 'FEAR', 'Confidence': 0.4506854712963104}],\n",
       "   'Landmarks': [{'Type': 'eyeLeft',\n",
       "     'X': 0.4967684745788574,\n",
       "     'Y': 0.4451718330383301},\n",
       "    {'Type': 'eyeRight', 'X': 0.6025780439376831, 'Y': 0.43226057291030884},\n",
       "    {'Type': 'mouthLeft', 'X': 0.5136364698410034, 'Y': 0.5936766266822815},\n",
       "    {'Type': 'mouthRight', 'X': 0.6021084785461426, 'Y': 0.5827866792678833},\n",
       "    {'Type': 'nose', 'X': 0.5537473559379578, 'Y': 0.5168918371200562},\n",
       "    {'Type': 'leftEyeBrowLeft',\n",
       "     'X': 0.4556357264518738,\n",
       "     'Y': 0.4161812961101532},\n",
       "    {'Type': 'leftEyeBrowRight',\n",
       "     'X': 0.4851962924003601,\n",
       "     'Y': 0.3937109708786011},\n",
       "    {'Type': 'leftEyeBrowUp',\n",
       "     'X': 0.5161877870559692,\n",
       "     'Y': 0.3975418508052826},\n",
       "    {'Type': 'rightEyeBrowLeft',\n",
       "     'X': 0.5766865015029907,\n",
       "     'Y': 0.390156090259552},\n",
       "    {'Type': 'rightEyeBrowRight',\n",
       "     'X': 0.6069570779800415,\n",
       "     'Y': 0.3789113461971283},\n",
       "    {'Type': 'rightEyeBrowUp',\n",
       "     'X': 0.6391230821609497,\n",
       "     'Y': 0.39375972747802734},\n",
       "    {'Type': 'leftEyeLeft', 'X': 0.47789376974105835, 'Y': 0.4470517933368683},\n",
       "    {'Type': 'leftEyeRight',\n",
       "     'X': 0.5177191495895386,\n",
       "     'Y': 0.44409602880477905},\n",
       "    {'Type': 'leftEyeUp', 'X': 0.4959796071052551, 'Y': 0.4375900328159332},\n",
       "    {'Type': 'leftEyeDown', 'X': 0.497572660446167, 'Y': 0.45176807045936584},\n",
       "    {'Type': 'rightEyeLeft', 'X': 0.5815768837928772, 'Y': 0.4363000988960266},\n",
       "    {'Type': 'rightEyeRight',\n",
       "     'X': 0.6211419105529785,\n",
       "     'Y': 0.42959994077682495},\n",
       "    {'Type': 'rightEyeUp', 'X': 0.6021620631217957, 'Y': 0.424623966217041},\n",
       "    {'Type': 'rightEyeDown',\n",
       "     'X': 0.6023055911064148,\n",
       "     'Y': 0.43897736072540283},\n",
       "    {'Type': 'noseLeft', 'X': 0.5348771810531616, 'Y': 0.5367386341094971},\n",
       "    {'Type': 'noseRight', 'X': 0.5739585161209106, 'Y': 0.5320230722427368},\n",
       "    {'Type': 'mouthUp', 'X': 0.5564162135124207, 'Y': 0.5696013569831848},\n",
       "    {'Type': 'mouthDown', 'X': 0.5589748620986938, 'Y': 0.6150193810462952},\n",
       "    {'Type': 'leftPupil', 'X': 0.4967684745788574, 'Y': 0.4451718330383301},\n",
       "    {'Type': 'rightPupil', 'X': 0.6025780439376831, 'Y': 0.43226057291030884},\n",
       "    {'Type': 'upperJawlineLeft',\n",
       "     'X': 0.43480831384658813,\n",
       "     'Y': 0.4580511450767517},\n",
       "    {'Type': 'midJawlineLeft',\n",
       "     'X': 0.4656430780887604,\n",
       "     'Y': 0.6160879135131836},\n",
       "    {'Type': 'chinBottom', 'X': 0.5635393261909485, 'Y': 0.6929232478141785},\n",
       "    {'Type': 'midJawlineRight',\n",
       "     'X': 0.652194082736969,\n",
       "     'Y': 0.5937202572822571},\n",
       "    {'Type': 'upperJawlineRight',\n",
       "     'X': 0.6648029088973999,\n",
       "     'Y': 0.4301588237285614}],\n",
       "   'Pose': {'Roll': -4.3042168617248535,\n",
       "    'Yaw': 2.139230966567993,\n",
       "    'Pitch': 7.421493053436279},\n",
       "   'Quality': {'Brightness': 69.47161865234375,\n",
       "    'Sharpness': 78.64350128173828},\n",
       "   'Confidence': 99.99874877929688}],\n",
       " 'ResponseMetadata': {'RequestId': '866dab42-976c-4cb3-ab38-42619a406ff2',\n",
       "  'HTTPStatusCode': 200,\n",
       "  'HTTPHeaders': {'content-type': 'application/x-amz-json-1.1',\n",
       "   'date': 'Sun, 04 Apr 2021 06:14:31 GMT',\n",
       "   'x-amzn-requestid': '866dab42-976c-4cb3-ab38-42619a406ff2',\n",
       "   'content-length': '3334',\n",
       "   'connection': 'keep-alive'},\n",
       "  'RetryAttempts': 0}}"
      ]
     },
     "execution_count": 63,
     "metadata": {},
     "output_type": "execute_result"
    }
   ],
   "source": [
    "resp_faces"
   ]
  },
  {
   "cell_type": "code",
   "execution_count": 47,
   "metadata": {},
   "outputs": [
    {
     "name": "stdout",
     "output_type": "stream",
     "text": [
      "{'BoundingBox': {'Width': 0.24148225784301758, 'Height': 0.4195033609867096, 'Left': 0.418419748544693, 'Top': 0.3757222294807434}, 'AgeRange': {'Low': 24, 'High': 38}, 'Smile': {'Value': False, 'Confidence': 83.52670288085938}, 'Eyeglasses': {'Value': False, 'Confidence': 97.3892593383789}, 'Sunglasses': {'Value': False, 'Confidence': 98.78448486328125}, 'Gender': {'Value': 'Male', 'Confidence': 99.68643188476562}, 'Beard': {'Value': True, 'Confidence': 88.6307144165039}, 'Mustache': {'Value': False, 'Confidence': 67.87704467773438}, 'EyesOpen': {'Value': True, 'Confidence': 99.45320129394531}, 'MouthOpen': {'Value': False, 'Confidence': 56.5963134765625}, 'Emotions': [{'Type': 'CALM', 'Confidence': 84.45182800292969}, {'Type': 'HAPPY', 'Confidence': 10.112855911254883}, {'Type': 'ANGRY', 'Confidence': 1.6231087446212769}, {'Type': 'SAD', 'Confidence': 1.1201543807983398}, {'Type': 'FEAR', 'Confidence': 1.0780894756317139}, {'Type': 'DISGUSTED', 'Confidence': 0.6771730780601501}, {'Type': 'CONFUSED', 'Confidence': 0.5016323924064636}, {'Type': 'SURPRISED', 'Confidence': 0.43515291810035706}], 'Landmarks': [{'Type': 'eyeLeft', 'X': 0.46899738907814026, 'Y': 0.5310199856758118}, {'Type': 'eyeRight', 'X': 0.5792804956436157, 'Y': 0.5201180577278137}, {'Type': 'mouthLeft', 'X': 0.48376765847206116, 'Y': 0.6857789754867554}, {'Type': 'mouthRight', 'X': 0.575683057308197, 'Y': 0.6765957474708557}, {'Type': 'nose', 'X': 0.5228708982467651, 'Y': 0.598250687122345}, {'Type': 'leftEyeBrowLeft', 'X': 0.4281790256500244, 'Y': 0.5024358034133911}, {'Type': 'leftEyeBrowRight', 'X': 0.4571925103664398, 'Y': 0.4755609333515167}, {'Type': 'leftEyeBrowUp', 'X': 0.48864811658859253, 'Y': 0.47876399755477905}, {'Type': 'rightEyeBrowLeft', 'X': 0.5517795085906982, 'Y': 0.472494900226593}, {'Type': 'rightEyeBrowRight', 'X': 0.5842492580413818, 'Y': 0.4630783796310425}, {'Type': 'rightEyeBrowUp', 'X': 0.6195453405380249, 'Y': 0.4836142957210541}, {'Type': 'leftEyeLeft', 'X': 0.4498683512210846, 'Y': 0.533523440361023}, {'Type': 'leftEyeRight', 'X': 0.4908371567726135, 'Y': 0.5303254723548889}, {'Type': 'leftEyeUp', 'X': 0.468106210231781, 'Y': 0.5226302742958069}, {'Type': 'leftEyeDown', 'X': 0.46973857283592224, 'Y': 0.537749171257019}, {'Type': 'rightEyeLeft', 'X': 0.5574180483818054, 'Y': 0.5237452387809753}, {'Type': 'rightEyeRight', 'X': 0.5991465449333191, 'Y': 0.5188589096069336}, {'Type': 'rightEyeUp', 'X': 0.578782856464386, 'Y': 0.5116908550262451}, {'Type': 'rightEyeDown', 'X': 0.5788582563400269, 'Y': 0.5269950032234192}, {'Type': 'noseLeft', 'X': 0.505460798740387, 'Y': 0.6235498785972595}, {'Type': 'noseRight', 'X': 0.5461567044258118, 'Y': 0.6196412444114685}, {'Type': 'mouthUp', 'X': 0.5268714427947998, 'Y': 0.6575329899787903}, {'Type': 'mouthDown', 'X': 0.5293060541152954, 'Y': 0.7059165835380554}, {'Type': 'leftPupil', 'X': 0.46899738907814026, 'Y': 0.5310199856758118}, {'Type': 'rightPupil', 'X': 0.5792804956436157, 'Y': 0.5201180577278137}, {'Type': 'upperJawlineLeft', 'X': 0.410469114780426, 'Y': 0.5553995370864868}, {'Type': 'midJawlineLeft', 'X': 0.4390195906162262, 'Y': 0.7190302610397339}, {'Type': 'chinBottom', 'X': 0.5344573855400085, 'Y': 0.7908674478530884}, {'Type': 'midJawlineRight', 'X': 0.6335952877998352, 'Y': 0.7005980610847473}, {'Type': 'upperJawlineRight', 'X': 0.6504903435707092, 'Y': 0.5320977568626404}], 'Pose': {'Roll': -3.9730312824249268, 'Yaw': -2.179211378097534, 'Pitch': 12.544851303100586}, 'Quality': {'Brightness': 22.69977569580078, 'Sharpness': 73.32209777832031}, 'Confidence': 99.99967956542969}\n"
     ]
    }
   ],
   "source": [
    "for i in range(1):\n",
    "    print (resp_faces['FaceDetails'][i])"
   ]
  },
  {
   "cell_type": "code",
   "execution_count": null,
   "metadata": {},
   "outputs": [],
   "source": []
  }
 ],
 "metadata": {
  "kernelspec": {
   "display_name": "Python 3",
   "language": "python",
   "name": "python3"
  },
  "language_info": {
   "codemirror_mode": {
    "name": "ipython",
    "version": 3
   },
   "file_extension": ".py",
   "mimetype": "text/x-python",
   "name": "python",
   "nbconvert_exporter": "python",
   "pygments_lexer": "ipython3",
   "version": "3.7.6"
  }
 },
 "nbformat": 4,
 "nbformat_minor": 4
}
