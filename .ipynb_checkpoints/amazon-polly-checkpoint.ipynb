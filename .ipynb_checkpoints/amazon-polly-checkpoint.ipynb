{
 "cells": [
  {
   "cell_type": "code",
   "execution_count": 1,
   "metadata": {},
   "outputs": [],
   "source": [
    "import boto3"
   ]
  },
  {
   "cell_type": "code",
   "execution_count": 2,
   "metadata": {},
   "outputs": [],
   "source": [
    "polly = boto3.client('polly')"
   ]
  },
  {
   "cell_type": "code",
   "execution_count": 19,
   "metadata": {},
   "outputs": [],
   "source": [
    "res = polly.synthesize_speech(Text = \"Welcome to amazon polly python app testing\", OutputFormat='mp3', VoiceId='Salli')"
   ]
  },
  {
   "cell_type": "code",
   "execution_count": 20,
   "metadata": {},
   "outputs": [
    {
     "data": {
      "text/plain": [
       "{'ResponseMetadata': {'RequestId': '4584b0b5-6fb0-49c7-81b2-239d9d09ca86',\n",
       "  'HTTPStatusCode': 200,\n",
       "  'HTTPHeaders': {'x-amzn-requestid': '4584b0b5-6fb0-49c7-81b2-239d9d09ca86',\n",
       "   'x-amzn-requestcharacters': '42',\n",
       "   'content-type': 'audio/mpeg',\n",
       "   'transfer-encoding': 'chunked',\n",
       "   'date': 'Sat, 03 Apr 2021 08:34:27 GMT'},\n",
       "  'RetryAttempts': 0},\n",
       " 'ContentType': 'audio/mpeg',\n",
       " 'RequestCharacters': '42',\n",
       " 'AudioStream': <botocore.response.StreamingBody at 0x21d4c2b7488>}"
      ]
     },
     "execution_count": 20,
     "metadata": {},
     "output_type": "execute_result"
    }
   ],
   "source": [
    "res "
   ]
  },
  {
   "cell_type": "code",
   "execution_count": 21,
   "metadata": {},
   "outputs": [],
   "source": [
    "# res['AudioStream'].read()"
   ]
  },
  {
   "cell_type": "code",
   "execution_count": 22,
   "metadata": {},
   "outputs": [],
   "source": [
    "file = open('myaudio.mp3', 'wb')"
   ]
  },
  {
   "cell_type": "code",
   "execution_count": 23,
   "metadata": {},
   "outputs": [
    {
     "data": {
      "text/plain": [
       "17129"
      ]
     },
     "execution_count": 23,
     "metadata": {},
     "output_type": "execute_result"
    }
   ],
   "source": [
    "file.write(res['AudioStream'].read())"
   ]
  },
  {
   "cell_type": "code",
   "execution_count": 24,
   "metadata": {},
   "outputs": [],
   "source": [
    "file.close()"
   ]
  },
  {
   "cell_type": "code",
   "execution_count": 25,
   "metadata": {},
   "outputs": [],
   "source": [
    "import IPython"
   ]
  },
  {
   "cell_type": "code",
   "execution_count": 26,
   "metadata": {},
   "outputs": [
    {
     "data": {
      "text/html": [
       "\n",
       "                <audio  controls=\"controls\" >\n",
       "                    <source src=\"data:audio/mpeg;base64,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\" type=\"audio/mpeg\" />\n",
       "                    Your browser does not support the audio element.\n",
       "                </audio>\n",
       "              "
      ],
      "text/plain": [
       "<IPython.lib.display.Audio object>"
      ]
     },
     "execution_count": 26,
     "metadata": {},
     "output_type": "execute_result"
    }
   ],
   "source": [
    "IPython.display.Audio(\"myaudio.mp3\")"
   ]
  },
  {
   "cell_type": "code",
   "execution_count": null,
   "metadata": {},
   "outputs": [],
   "source": []
  }
 ],
 "metadata": {
  "kernelspec": {
   "display_name": "Python 3",
   "language": "python",
   "name": "python3"
  },
  "language_info": {
   "codemirror_mode": {
    "name": "ipython",
    "version": 3
   },
   "file_extension": ".py",
   "mimetype": "text/x-python",
   "name": "python",
   "nbconvert_exporter": "python",
   "pygments_lexer": "ipython3",
   "version": "3.7.6"
  }
 },
 "nbformat": 4,
 "nbformat_minor": 4
}
